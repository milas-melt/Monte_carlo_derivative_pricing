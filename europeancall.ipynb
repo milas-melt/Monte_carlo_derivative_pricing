{
 "cells": [
  {
   "cell_type": "code",
   "execution_count": 6,
   "id": "91e74340-dbd8-4dba-baa5-e99ea806a704",
   "metadata": {},
   "outputs": [
    {
     "name": "stdout",
     "output_type": "stream",
     "text": [
      "10.454797433757793\n"
     ]
    }
   ],
   "source": [
    "import numpy as np\n",
    "n = 1000000 # number of draws for monte carlo simulation\n",
    "\n",
    "# black scholes params\n",
    "s0 = 100    # stock price today\n",
    "r = 0.05   # risk free rate\n",
    "sigma = 0.2 # stock (historical) volatility\n",
    "T = 1  # Time to maturity (in years)\n",
    "K = 100     # Strike price\n",
    "\n",
    "c = []\n",
    "for i in range(n):\n",
    "    z = np.random.normal(0,1) # draw normal random variable\n",
    "    s = s0 * np.exp((r - 0.5 * (sigma ** 2)) * T + z * sigma * np.sqrt(T)) # calculate price\n",
    "    _c = np.exp(-r * T) * max(s - K, 0) # discount price and compute payoff\n",
    "    c.append(_c) \n",
    "\n",
    "print(np.mean(c)) # calculate average price"
   ]
  },
  {
   "cell_type": "code",
   "execution_count": 12,
   "id": "9c461b4f-b8c7-41dc-9fb9-66d41b103aa4",
   "metadata": {},
   "outputs": [
    {
     "name": "stdout",
     "output_type": "stream",
     "text": [
      "10.44610425264733\n"
     ]
    }
   ],
   "source": [
    "import numpy as np\n",
    "n = 1000000 # number of draws for monte carlo simulation\n",
    "\n",
    "# black scholes params\n",
    "s0 = 100    # stock price today\n",
    "r = 0.05   # risk free rate\n",
    "sigma = 0.2 # stock (historical) volatility\n",
    "T = 1  # Time to maturity (in years)\n",
    "K = 100     # Strike price\n",
    "\n",
    "c = []\n",
    "for i in range(n):\n",
    "    z = np.random.normal() # draw normal random variable\n",
    "    s = s0 * np.exp((r - 0.5 * (sigma ** 2)) * T + z * sigma * np.sqrt(T)) # calculate price\n",
    "    _c = np.exp(-r * T) * max(s - K, 0) # discount price and compute payoff\n",
    "    c.append(_c) \n",
    "\n",
    "print(np.mean(c)) # calculate average price"
   ]
  },
  {
   "cell_type": "code",
   "execution_count": null,
   "id": "29504f3d-3d39-42e2-a484-a66723e23fcc",
   "metadata": {},
   "outputs": [],
   "source": []
  }
 ],
 "metadata": {
  "kernelspec": {
   "display_name": "Python 3",
   "language": "python",
   "name": "python3"
  },
  "language_info": {
   "codemirror_mode": {
    "name": "ipython",
    "version": 3
   },
   "file_extension": ".py",
   "mimetype": "text/x-python",
   "name": "python",
   "nbconvert_exporter": "python",
   "pygments_lexer": "ipython3",
   "version": "3.8.8"
  }
 },
 "nbformat": 4,
 "nbformat_minor": 5
}
