{
 "cells": [
  {
   "cell_type": "code",
   "execution_count": 1,
   "id": "1df8ce96-d611-40da-9359-550f1dc17fd5",
   "metadata": {},
   "outputs": [],
   "source": [
    "# imports\n",
    "import time\n",
    "import datetime\n",
    "import numpy as np\n",
    "from random import gauss, seed\n",
    "from math import sqrt, exp\n",
    "\n",
    "# set seed\n",
    "seed(12345678)"
   ]
  },
  {
   "cell_type": "markdown",
   "id": "c6cbc95c-ffc8-4756-a184-8b2195153c5e",
   "metadata": {},
   "source": [
    "# Ito's Lemma *\n",
    "\n",
    "A formal proof of the lemma relies on taking the limit of a sequence of random variables. This approach is not presented here since it involves a number of technical details. Instead, we give a sketch of how one can derive Itô's lemma by expanding a Taylor series and applying the rules of stochastic calculus.\n",
    "\n",
    "Suppose _X<sub>t_</sub> is an Itô drift-diffusion process that satisfies the stochastic differential equation:\n",
    "\n",
    "<div align=\"center\">\n",
    "    <img src=\"https://latex.codecogs.com/svg.latex?dX_t=%20\\mu_t%20\\,%20dt%20+%20\\sigma_t%20\\,%20dB_t\" alt=\"dX_t= \\mu_t \\, dt + \\sigma_t \\, dB_t\" />\n",
    "</div>\n",
    "\n",
    "where _B<sub>t_</sub>_ is a Wiener process.\n",
    "\n",
    "If _f(t,x)_ is a twice-differentiable scalar function, its expansion in a Taylor series is:\n",
    "\n",
    "<div align=\"center\">\n",
    "    <img src=\"https://latex.codecogs.com/svg.latex?df%20=%20\\frac{\\partial%20f}{\\partial%20t}\\,dt%20+%20\\frac{1}{2}\\frac{\\partial^2%20f}{\\partial%20t^2}\\,dt^2%20+%20\\cdots%20+%20\\frac{\\partial%20f}{\\partial%20x}\\,dx%20+%20\\frac{1}{2}\\frac{\\partial^2%20f}{\\partial%20x^2}\\,dx^2%20+%20\\cdots\" alt=\"df = \\frac{\\partial f}{\\partial t}\\,dt + \\frac{1}{2}\\frac{\\partial^2 f}{\\partial t^2}\\,dt^2 + \\cdots + \\frac{\\partial f}{\\partial x}\\,dx + \\frac{1}{2}\\frac{\\partial^2 f}{\\partial x^2}\\,dx^2 + \\cdots\" />\n",
    "</div>\n",
    "\n",
    "Substituting _X<sub>t</sub>_ for _x_ and therefore _μ<sub>t</sub> dt + σ<sub>t</sub> dB<sub>t</sub>_ for _dx_ gives:\n",
    "\n",
    "<div align=\"center\">\n",
    "    <img src=\"https://latex.codecogs.com/svg.latex?df%20=%20\\frac{\\partial%20f}{\\partial%20t}\\,dt%20+%20\\frac{1}{2}\\frac{\\partial^2%20f}{\\partial%20t^2}\\,dt^2%20+%20\\cdots%20+%20\\frac{\\partial%20f}{\\partial%20x}(\\mu_t\\,dt%20+%20\\sigma_t\\,dB_t)%20+%20\\frac{1}{2}\\frac{\\partial^2%20f}{\\partial%20x^2}%20\\left%20(\\mu_t^2\\,dt^2%20+%202\\mu_t\\sigma_t\\,dt\\,dB_t%20+%20\\sigma_t^2\\,dB_t^2%20\\right%20)%20+%20\\cdots\" alt=\"df = \\frac{\\partial f}{\\partial t}\\,dt + \\frac{1}{2}\\frac{\\partial^2 f}{\\partial t^2}\\,dt^2 + \\cdots+ \\frac{\\partial f}{\\partial x}(\\mu_t\\,dt + \\sigma_t\\,dB_t) + \\frac{1}{2}\\frac{\\partial^2 f}{\\partial x^2} \\left (\\mu_t^2\\,dt^2 + 2\\mu_t\\sigma_t\\,dt\\,dB_t + \\sigma_t^2\\,dB_t^2 \\right ) + \\cdots\" />\n",
    "</div>\n",
    "\n",
    "In the limit _dt_ → 0, the terms _dt<sup>2</sup>_ and _dt dB<sub>t</sub>_ tend to zero faster than _dB<sup>2</sup>_, which is _O(dt)_. Setting the _dt<sup>2</sup>_ and _dt dB<sub>t</sub>_ terms to zero, substituting _dt_ for _dB<sup>2</sup>_ (due to the quadratic variation of a Wiener process), and collecting the _dt_ and _dB_ terms, we obtain:\n",
    "\n",
    "<div align=\"center\">\n",
    "    <img src=\"https://latex.codecogs.com/svg.latex?df%20=%20\\left(\\frac{\\partial%20f}{\\partial%20t}%20+%20\\mu_t\\frac{\\partial%20f}{\\partial%20x}%20+%20\\frac{\\sigma_t^2}{2}\\frac{\\partial^2%20f}{\\partial%20x^2}\\right)dt%20+%20\\sigma_t\\frac{\\partial%20f}{\\partial%20x}\\,dB_t\" alt=\"\\begin{aligned} df &= \\left(\\frac{\\partial f}{\\partial t} + \\mu_t\\frac{\\partial f}{\\partial x} + \\frac{\\sigma_t^2}{2}\\frac{\\partial^2 f}{\\partial x^2}\\right)dt + \\sigma_t\\frac{\\partial f}{\\partial x}\\,dB_t \\end{aligned}\" />\n",
    "</div>\n",
    "\n",
    "as required.\n",
    "\n",
    "*: https://en.wikipedia.org/w/index.php?title=It%C3%B4%27s_lemma&action=edit"
   ]
  },
  {
   "cell_type": "markdown",
   "id": "33f1e3a4-a99e-4db7-8ca5-b6b9f6598dca",
   "metadata": {},
   "source": [
    "----------------\n",
    "Let\n",
    "$$ dS_t/S_t: \\textit{asset return} $$\n",
    "\n",
    "Assume that the asset return follows a geometric brownian motion s.t.\n",
    "$$ dS_t/S_t = \\mu_t dt + \\sigma_t dz_t $$\n",
    "\n",
    "$$ dt: \\textit{time unit (assume year)} $$\n",
    "$$ \\mu: \\textit{expected return per year} $$\n",
    "$$ \\sigma: \\textit{return volatility per year} $$\n",
    "$$ S: \\textit{asset price} $$\n",
    "$$ dz_t: \\sim N(0, dt) \\sim \\epsilon  \\sqrt{dt} $$\n",
    "$$ \\epsilon \\sim N(0, 1) $$\n",
    "\n",
    "By Ito's Lemma:\n",
    "\n",
    "$$ d\\log{S_t} = (\\mu_t - \\sigma_t^2/2) dt + \\sigma_t dz_t $$\n",
    "\n",
    "\n",
    "\n",
    "$$ S_T = S_0 \\exp((\\mu_t - \\sigma_t^2/2) T + \\sigma_t \\epsilon \\sqrt{T}) $$\n",
    "\n",
    "If we assume risk-neutral measure,\n",
    "$$ \\mu_t = r_t - q_t $$\n",
    "$$ r_t: \\textit{risk free rate}$$\n",
    "$$ q_t: \\textit{dividend yield per year}$$"
   ]
  },
  {
   "cell_type": "code",
   "execution_count": 12,
   "id": "be39603c-3051-4b16-b5c0-89136b397d36",
   "metadata": {},
   "outputs": [],
   "source": [
    "def generate_asset_price(S_0, mu, sigma, T, z): # simulate asset prices\n",
    "    S_T = S_0 * exp((mu - (sigma**2) / 2) * T + sigma * z * sqrt(T))\n",
    "    return S_T"
   ]
  },
  {
   "cell_type": "code",
   "execution_count": 13,
   "id": "c8bee0d0-6024-4d21-b98f-c9a7ef18414b",
   "metadata": {},
   "outputs": [],
   "source": [
    "def call_payoff(S_T, K): # European call option\n",
    "    return max(S_T - K, 0)"
   ]
  },
  {
   "cell_type": "code",
   "execution_count": 14,
   "id": "eb897c26-32b4-422d-875c-89e2369db30c",
   "metadata": {},
   "outputs": [
    {
     "data": {
      "text/plain": [
       "100.7772485910164"
      ]
     },
     "execution_count": 14,
     "metadata": {},
     "output_type": "execute_result"
    }
   ],
   "source": [
    "S = 100. # underlying price (S_0)\n",
    "sigma = 0.20978 # volatility per year\n",
    "r = 0.01 # risk free rate per year\n",
    "q = 0.001 # dividend yield per year\n",
    "mu = r - q # expected returns under risk neutral measure\n",
    "T = (datetime.date(2021,11,30) - datetime.date(2020,10,30)).days/365. # time to maturity\n",
    "K = 110. # exercise price"
   ]
  },
  {
   "cell_type": "code",
   "execution_count": 126,
   "id": "47b1978c-171f-4419-a090-dd25c9b94e6b",
   "metadata": {},
   "outputs": [
    {
     "name": "stdout",
     "output_type": "stream",
     "text": [
      "95.34273787214171\n",
      "0\n"
     ]
    }
   ],
   "source": [
    "z = np.random.standard_normal((1,1))\n",
    "S_T = generate_asset_price(S, mu, sigma, T, z)\n",
    "print(S_T)\n",
    "print(call_payoff(S_T,K))"
   ]
  },
  {
   "cell_type": "markdown",
   "id": "34412c8a-38e0-4dd9-a824-f92f508cc4ce",
   "metadata": {},
   "source": [
    "Our goal is to:\n",
    "1. simulate many call option payoffs \n",
    "2. compute the average of the payoffs\n",
    "3. compute the derivative price by discounting the average to the present."
   ]
  },
  {
   "cell_type": "code",
   "execution_count": 139,
   "id": "8c577e61-bcbc-4b7e-aa04-a8c9eeab3f1f",
   "metadata": {},
   "outputs": [
    {
     "name": "stdout",
     "output_type": "stream",
     "text": [
      "Derivative price = 5.2997\t Simulation time = 4.9703\n"
     ]
    }
   ],
   "source": [
    "simulations = 10**6\n",
    "payoffs = []\n",
    "t = time.time()\n",
    "\n",
    "for i in range(simulations):\n",
    "    z = np.random.standard_normal((1,1))\n",
    "    S_T = generate_asset_price(S, mu, sigma, T, z)\n",
    "    DS_T = call_payoff(S_T,K) # call payoff\n",
    "    payoffs.append(DS_T)\n",
    "    \n",
    "elapsed = time.time() - t\n",
    "discount_factor = exp(-r * T)\n",
    "price = discount_factor * sum(payoffs)/simulations\n",
    "print(f\"Derivative price = {round(price, 4)}\\t Simulation time = {round(elapsed, 4)}\")"
   ]
  },
  {
   "cell_type": "code",
   "execution_count": null,
   "id": "aafdef56-0175-46d4-adf7-3d5066e88877",
   "metadata": {},
   "outputs": [],
   "source": []
  }
 ],
 "metadata": {
  "kernelspec": {
   "display_name": "Python 3",
   "language": "python",
   "name": "python3"
  },
  "language_info": {
   "codemirror_mode": {
    "name": "ipython",
    "version": 3
   },
   "file_extension": ".py",
   "mimetype": "text/x-python",
   "name": "python",
   "nbconvert_exporter": "python",
   "pygments_lexer": "ipython3",
   "version": "3.8.8"
  }
 },
 "nbformat": 4,
 "nbformat_minor": 5
}
