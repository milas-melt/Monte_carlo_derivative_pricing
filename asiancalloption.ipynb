{
 "cells": [
  {
   "cell_type": "code",
   "execution_count": 4,
   "id": "a0f89220-e8d3-4882-a08a-432d73f2cbb0",
   "metadata": {},
   "outputs": [],
   "source": [
    "import numpy as np\n",
    "\n",
    "n = 10000   # number of draws for monte carlo simulation\n",
    "m = 3       # compute average over 3 days\n",
    "\n",
    "# black scholes params\n",
    "s0 = 100    # stock price today\n",
    "r = 0.025   # risk free rate\n",
    "sigma = 0.2 # stock (historical) volatility\n",
    "T = 21/252  # Time to maturity (in years)\n",
    "K = 100     # Strike price"
   ]
  },
  {
   "cell_type": "code",
   "execution_count": 5,
   "id": "bd2acc80-a14f-4dca-af79-c76748558728",
   "metadata": {},
   "outputs": [
    {
     "name": "stdout",
     "output_type": "stream",
     "text": [
      "3.447520477989045\n"
     ]
    }
   ],
   "source": [
    "s = [s0]\n",
    "dt = T/m\n",
    "c = []\n",
    "for i in range(n):\n",
    "    for j in range(m):\n",
    "        z = np.random.normal(0,1) # draw normal random variable\n",
    "        s.append(s[j] * np.exp((r - (sigma ** 2)) * dt + sigma * np.sqrt(dt) * z))\n",
    "    \n",
    "    savg = np.mean(s)\n",
    "    s = [s[-1]]\n",
    "    c.append(np.exp(-r * T) * max(0, savg - K))\n",
    "\n",
    "print(np.mean(c))"
   ]
  }
 ],
 "metadata": {
  "kernelspec": {
   "display_name": "Python 3",
   "language": "python",
   "name": "python3"
  },
  "language_info": {
   "codemirror_mode": {
    "name": "ipython",
    "version": 3
   },
   "file_extension": ".py",
   "mimetype": "text/x-python",
   "name": "python",
   "nbconvert_exporter": "python",
   "pygments_lexer": "ipython3",
   "version": "3.8.8"
  }
 },
 "nbformat": 4,
 "nbformat_minor": 5
}
