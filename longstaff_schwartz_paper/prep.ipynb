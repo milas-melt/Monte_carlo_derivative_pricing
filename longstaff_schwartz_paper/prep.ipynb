{
 "cells": [
  {
   "cell_type": "markdown",
   "id": "78cd6a5f-b4d7-498a-ba98-8a3891e8f0c7",
   "metadata": {},
   "source": [
    "things to explain - backward induction for american option pricing"
   ]
  },
  {
   "cell_type": "markdown",
   "id": "27bbe82c-56d6-4a84-b09d-fb97f791825a",
   "metadata": {},
   "source": [
    "`numpy` things to know for the paper:\n",
    "- `np.polyfit`\n",
    "- `np.ploy1d`\n",
    "- `np.polyval`\n",
    "- `np.where`\n",
    "- `np.random.standard_normal`\n",
    "- `np.cumsum`"
   ]
  },
  {
   "cell_type": "code",
   "execution_count": 1,
   "id": "da1da5c1-8908-454d-bd28-f5fa4bee141a",
   "metadata": {},
   "outputs": [],
   "source": [
    "# imports\n",
    "import numpy as np"
   ]
  },
  {
   "cell_type": "code",
   "execution_count": 2,
   "id": "79916ee1-25d6-4e0f-b147-5eb3a89287d1",
   "metadata": {},
   "outputs": [
    {
     "name": "stdout",
     "output_type": "stream",
     "text": [
      "[[-2.65674301  0.88775234  2.11675046]\n",
      " [-0.58563122  0.23118172  1.05679602]\n",
      " [ 1.38312036  0.256484   -0.97015603]\n",
      " [ 0.84979421 -1.1450417  -0.71711014]\n",
      " [ 0.98075995  1.58980443 -1.1210115 ]]\n",
      "\n",
      "[[-2.65674301  0.88775234  2.11675046]\n",
      " [-3.24237424  1.11893406  3.17354648]\n",
      " [-1.85925387  1.37541806  2.20339044]\n",
      " [-1.00945966  0.23037637  1.48628031]\n",
      " [-0.02869971  1.82018079  0.36526881]]\n",
      "\n",
      "[[-2.65674301 -1.76899067  0.34775979]\n",
      " [-0.58563122 -0.35444951  0.70234651]\n",
      " [ 1.38312036  1.63960437  0.66944833]\n",
      " [ 0.84979421 -0.29524748 -1.01235762]\n",
      " [ 0.98075995  2.57056438  1.44955288]]\n"
     ]
    }
   ],
   "source": [
    "temp = np.random.standard_normal((5,3))\n",
    "print(temp)\n",
    "print('')\n",
    "print(np.cumsum(temp, axis=0))\n",
    "print('')\n",
    "print(np.cumsum(temp, axis=1))"
   ]
  },
  {
   "cell_type": "markdown",
   "id": "ff66c804-d2df-4cad-ac0e-14c8dd011184",
   "metadata": {},
   "source": [
    "In the european option, only the terminal point is important.\n",
    "\n",
    "In American options, the past is important, because the option can be exercised before the terminal point. Therefore we need to generate a matrix of random numbers and compute the cumulative sum because the stock price at time t is the cumulative sum of the previous stock returns."
   ]
  },
  {
   "cell_type": "code",
   "execution_count": 3,
   "id": "12450a99-c167-488c-89a4-689b570a6f76",
   "metadata": {},
   "outputs": [],
   "source": [
    "# Longstaff & Schwartz algorithm\n",
    "import math\n",
    "import numpy as np\n",
    "from math import exp, sqrt, log\n",
    "np.random.seed(123456)\n",
    "\n",
    "# input specifications\n",
    "S0 = 100.         # underlying price (S_0)\n",
    "sigma = 0.20978   # volatility per year\n",
    "r = 0.01          # risk free rate per year\n",
    "div = 0.001       # dividend yield per year\n",
    "mu = r - div      # expected returns under risk neutral measure\n",
    "T = 1.            # time to maturity\n",
    "K = 110.          # exercise price\n",
    "\n",
    "# Simulation parameters\n",
    "I = 10**3                 # number of simulations\n",
    "M = 12                    # time steps (unit is years)\n",
    "dt = T/M                  # length of time steps\n",
    "df = math.exp(-r * dt)    # discount factor"
   ]
  },
  {
   "cell_type": "code",
   "execution_count": 4,
   "id": "dae14eda-0e4b-42bf-a625-997c41db985b",
   "metadata": {},
   "outputs": [
    {
     "name": "stdout",
     "output_type": "stream",
     "text": [
      "(12, 1000)\n"
     ]
    }
   ],
   "source": [
    "return_series = (mu - (sigma**2)/2.) * dt + sigma * sqrt(dt)* np.random.standard_normal((M, I))\n",
    "S = S0 * np.exp(np.cumsum(return_series, axis = 0))\n",
    "print(S.shape)\n",
    "# note: shape is (M, I)\n",
    "# print(S)"
   ]
  },
  {
   "cell_type": "code",
   "execution_count": 6,
   "id": "51e0c603-20f8-4860-88c5-1b9df2a96d95",
   "metadata": {
    "tags": []
   },
   "outputs": [
    {
     "name": "stdout",
     "output_type": "stream",
     "text": [
      "The american option value is: 14.352\n"
     ]
    }
   ],
   "source": [
    "# compute inner value ( inner value == the value of the option if it is exercised right away )\n",
    "h = np.maximum(K - S, 0.) # exercising right away\n",
    "V = h[-1] # terminal value\n",
    "\n",
    "#  Let us compute the value of american option with backward induction \n",
    "polyfit_order = 10\n",
    "for t in range(M-1, 0, -1):\n",
    "    rg = np.polyfit(S[t], V*df, polyfit_order) # estimate continuation-value function with stock prices\n",
    "    C = np.polyval(rg, S[t]) # evaluate continuation value with stock prices with function\n",
    "    V = np.where(h[t]>C, h[t], V*df) # update american value\n",
    "    \n",
    "V0 = df * np.average(V) # finally, compute the value of the american option \n",
    "print(f\"The american option value is: {round(V0,4)}\")"
   ]
  }
 ],
 "metadata": {
  "kernelspec": {
   "display_name": "Python 3",
   "language": "python",
   "name": "python3"
  },
  "language_info": {
   "codemirror_mode": {
    "name": "ipython",
    "version": 3
   },
   "file_extension": ".py",
   "mimetype": "text/x-python",
   "name": "python",
   "nbconvert_exporter": "python",
   "pygments_lexer": "ipython3",
   "version": "3.8.5"
  }
 },
 "nbformat": 4,
 "nbformat_minor": 5
}
