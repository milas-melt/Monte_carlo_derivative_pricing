{
 "cells": [
  {
   "cell_type": "markdown",
   "id": "78cd6a5f-b4d7-498a-ba98-8a3891e8f0c7",
   "metadata": {},
   "source": [
    "things to explain - backward induction for american option pricing"
   ]
  },
  {
   "cell_type": "markdown",
   "id": "27bbe82c-56d6-4a84-b09d-fb97f791825a",
   "metadata": {},
   "source": [
    "`numpy` things to know for the paper:\n",
    "- `np.polyfit`\n",
    "- `np.ploy1d`\n",
    "- `np.polyval`\n",
    "- `np.where`\n",
    "- `np.random.standard_normal`\n",
    "- `np.cumsum`"
   ]
  },
  {
   "cell_type": "code",
   "execution_count": 190,
   "id": "da1da5c1-8908-454d-bd28-f5fa4bee141a",
   "metadata": {},
   "outputs": [],
   "source": [
    "# imports\n",
    "import numpy as np"
   ]
  },
  {
   "cell_type": "code",
   "execution_count": 191,
   "id": "79916ee1-25d6-4e0f-b147-5eb3a89287d1",
   "metadata": {},
   "outputs": [
    {
     "name": "stdout",
     "output_type": "stream",
     "text": [
      "[[ 0.32200914  1.32910831  2.38060024]\n",
      " [-0.56531126  0.19401598 -0.22280344]\n",
      " [ 0.13668262 -0.65860025  1.3377214 ]\n",
      " [ 1.87343121 -1.31038457 -0.05026927]\n",
      " [-0.14950003  0.69343764 -0.41378278]]\n",
      "\n",
      "[[ 0.32200914  1.32910831  2.38060024]\n",
      " [-0.24330212  1.52312429  2.15779679]\n",
      " [-0.1066195   0.86452404  3.49551819]\n",
      " [ 1.76681171 -0.44586053  3.44524893]\n",
      " [ 1.61731167  0.24757711  3.03146615]]\n",
      "\n",
      "[[ 0.32200914  1.65111745  4.03171769]\n",
      " [-0.56531126 -0.37129528 -0.59409872]\n",
      " [ 0.13668262 -0.52191763  0.81580378]\n",
      " [ 1.87343121  0.56304664  0.51277737]\n",
      " [-0.14950003  0.5439376   0.13015482]]\n"
     ]
    }
   ],
   "source": [
    "temp = np.random.standard_normal((5,3))\n",
    "print(temp)\n",
    "print('')\n",
    "print(np.cumsum(temp, axis=0))\n",
    "print('')\n",
    "print(np.cumsum(temp, axis=1))"
   ]
  },
  {
   "cell_type": "markdown",
   "id": "ff66c804-d2df-4cad-ac0e-14c8dd011184",
   "metadata": {},
   "source": [
    "In the european option, only the terminal point is important.\n",
    "\n",
    "In American options, the past is important, because the option can be exercised before the terminal point. Therefore we need to generate a matrix of random numbers and compute the cumulative sum because the stock price at time t is the cumulative sum of the previous stock returns."
   ]
  },
  {
   "cell_type": "code",
   "execution_count": 192,
   "id": "12450a99-c167-488c-89a4-689b570a6f76",
   "metadata": {},
   "outputs": [],
   "source": [
    "# Longstaff & Schwartz algorithm\n",
    "import math\n",
    "import numpy as np\n",
    "from math import exp, sqrt, log\n",
    "np.random.seed(123456)\n",
    "\n",
    "# input specifications\n",
    "# S0 = 100.         # underlying price (S_0)\n",
    "# false S0\n",
    "S0=36.\n",
    "# sigma = 0.20978   # volatility per year\n",
    "# false sigma\n",
    "sigma = 0.2\n",
    "r = 0.06          # risk free rate per year\n",
    "# div = 0.001       # dividend yield per year\n",
    "# false div\n",
    "div = 0.\n",
    "mu = r - div      # expected returns under risk neutral measure\n",
    "# T = 1.            # time to maturity\n",
    "# false T:\n",
    "T = 2.\n",
    "# K = 110.          # exercise price\n",
    "# false k\n",
    "K=40\n",
    "\n",
    "\n",
    "# Simulation parameters\n",
    "I = 10**4                 # number of simulations\n",
    "# M = 12                    # time steps (unit is years)\n",
    "# false M\n",
    "M = int(50/T)\n",
    "dt = T/M                  # length of time steps\n",
    "df = math.exp(-r * dt)    # discount factor"
   ]
  },
  {
   "cell_type": "code",
   "execution_count": 193,
   "id": "dae14eda-0e4b-42bf-a625-997c41db985b",
   "metadata": {},
   "outputs": [
    {
     "name": "stdout",
     "output_type": "stream",
     "text": [
      "(25, 10000)\n"
     ]
    }
   ],
   "source": [
    "return_series = (mu - (sigma**2)/2.) * dt + sigma * sqrt(dt)* np.random.standard_normal((M, I))\n",
    "S = S0 * np.exp(np.cumsum(return_series, axis = 0))\n",
    "print(S.shape)\n",
    "# note: shape is (M, I)\n",
    "# print(S)"
   ]
  },
  {
   "cell_type": "code",
   "execution_count": 194,
   "id": "51e0c603-20f8-4860-88c5-1b9df2a96d95",
   "metadata": {
    "tags": []
   },
   "outputs": [
    {
     "name": "stdout",
     "output_type": "stream",
     "text": [
      "The american option value is: 4.6614\n"
     ]
    }
   ],
   "source": [
    "# compute inner value ( inner value == the value of the option if it is exercised right away )\n",
    "h = np.maximum(K - S, 0.) # exercising right away\n",
    "V = h[-1] # terminal value\n",
    "\n",
    "#  Let us compute the value of american option with backward induction \n",
    "polyfit_order = 2\n",
    "for t in range(M-1, 0, -1):\n",
    "    rg = np.polyfit(S[t], V*df, polyfit_order) # estimate continuation-value function with stock prices\n",
    "    C = np.polyval(rg, S[t]) # evaluate continuation value with stock prices with function\n",
    "    V = np.where(h[t]>C, h[t], V*df) # update american value\n",
    "    \n",
    "V0 = df * np.average(V) # finally, compute the value of the american option \n",
    "print(f\"The american option value is: {round(V0,4)}\")"
   ]
  },
  {
   "cell_type": "code",
   "execution_count": null,
   "id": "26ebaf0d",
   "metadata": {},
   "outputs": [],
   "source": []
  },
  {
   "cell_type": "code",
   "execution_count": 195,
   "id": "ddb97e97",
   "metadata": {},
   "outputs": [],
   "source": [
    "# 4.6875\n",
    "# 4.667"
   ]
  },
  {
   "cell_type": "code",
   "execution_count": null,
   "id": "d6b72801",
   "metadata": {},
   "outputs": [],
   "source": []
  }
 ],
 "metadata": {
  "kernelspec": {
   "display_name": "Python 3",
   "language": "python",
   "name": "python3"
  },
  "language_info": {
   "codemirror_mode": {
    "name": "ipython",
    "version": 3
   },
   "file_extension": ".py",
   "mimetype": "text/x-python",
   "name": "python",
   "nbconvert_exporter": "python",
   "pygments_lexer": "ipython3",
   "version": "3.8.5"
  }
 },
 "nbformat": 4,
 "nbformat_minor": 5
}
