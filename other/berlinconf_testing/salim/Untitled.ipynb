{
 "cells": [
  {
   "cell_type": "code",
   "execution_count": null,
   "id": "bd96c7ab",
   "metadata": {},
   "outputs": [],
   "source": []
  },
  {
   "cell_type": "code",
   "execution_count": 3,
   "id": "da14da33",
   "metadata": {},
   "outputs": [],
   "source": [
    "from longstaff_schwartz.algorithm import longstaff_schwartz\n",
    "from longstaff_schwartz.stochastic_process import GeometricBrownianMotion\n",
    "import numpy as np\n",
    "\n",
    "# Model parameters\n",
    "t = np.linspace(0, 5, 100)  # timegrid for simulation\n",
    "r = 0.01  # riskless rate\n",
    "sigma = 0.15  # annual volatility of underlying\n",
    "n = 100  # number of simulated paths\n",
    "\n",
    "# Simulate the underlying\n",
    "gbm = GeometricBrownianMotion(mu=r, sigma=sigma)\n",
    "rnd = np.random.RandomState(1234)\n",
    "x = gbm.simulate(t, n, rnd)  # x.shape == (t.size, n)\n",
    "\n",
    "# Payoff (exercise) function\n",
    "strike = 0.95\n",
    "\n",
    "def put_payoff(spot):\n",
    "    return np.maximum(strike - spot, 0.0)\n",
    "\n",
    "# Discount factor function\n",
    "def constant_rate_df(t_from, t_to):\n",
    "    return np.exp(-r * (t_to - t_from))\n",
    "\n",
    "# Approximation of continuation value\n",
    "def fit_quadratic(x, y):\n",
    "    return np.polynomial.Polynomial.fit(x, y, 2, rcond=None)\n",
    "\n",
    "# Selection of paths to consider for exercise\n",
    "# (and continuation value approxmation)\n",
    "def itm(payoff, spot):\n",
    "    return payoff > 0\n",
    "\n",
    "# Run valuation of American put option\n",
    "npv_american = longstaff_schwartz(x, t, constant_rate_df,\n",
    "                                  fit_quadratic, put_payoff, itm)\n",
    "\n",
    "# European put option for comparison\n",
    "npv_european = constant_rate_df(t[0], t[-1]) * put_payoff(x[-1]).mean()\n",
    "\n",
    "# Check results\n",
    "assert np.round(npv_american, 4) == 0.0734\n",
    "assert np.round(npv_european, 4) == 0.0626\n",
    "assert npv_american > npv_european"
   ]
  },
  {
   "cell_type": "code",
   "execution_count": null,
   "id": "72efefec",
   "metadata": {},
   "outputs": [],
   "source": []
  }
 ],
 "metadata": {
  "kernelspec": {
   "display_name": "Python 3",
   "language": "python",
   "name": "python3"
  },
  "language_info": {
   "codemirror_mode": {
    "name": "ipython",
    "version": 3
   },
   "file_extension": ".py",
   "mimetype": "text/x-python",
   "name": "python",
   "nbconvert_exporter": "python",
   "pygments_lexer": "ipython3",
   "version": "3.8.8"
  }
 },
 "nbformat": 4,
 "nbformat_minor": 5
}
